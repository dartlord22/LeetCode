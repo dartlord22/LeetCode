{
 "cells": [
  {
   "cell_type": "markdown",
   "metadata": {},
   "source": [
    "Given an array of strings strs, group the anagrams together. You can return the answer in any order."
   ]
  },
  {
   "cell_type": "code",
   "execution_count": 46,
   "metadata": {},
   "outputs": [],
   "source": [
    "string1 = [\"eat\",\"tea\",\"tan\",\"ate\",\"nat\",\"bat\"]\n",
    "string2 = ['car', 'arc', 'fat', 'aft', 'ace']"
   ]
  },
  {
   "cell_type": "markdown",
   "metadata": {},
   "source": [
    "My first thought is to just sort each of the strings in the list with a for loop and return the list sorted. This should give us back a list with all alike anagrams grouped together:"
   ]
  },
  {
   "cell_type": "code",
   "execution_count": 47,
   "metadata": {},
   "outputs": [
    {
     "name": "stdout",
     "output_type": "stream",
     "text": [
      "['abt', 'aet', 'aet', 'aet', 'ant', 'ant']\n"
     ]
    }
   ],
   "source": [
    "def sort_strings(list):\n",
    "    for i in range(len(list)):\n",
    "        list[i] = ''.join(sorted(list[i]))\n",
    "    return list.sort()\n",
    "\n",
    "sort_strings(string1)\n",
    "print(string1)\n",
    "\n",
    "\n",
    "    \n"
   ]
  },
  {
   "cell_type": "markdown",
   "metadata": {},
   "source": [
    "Same concept with this next one but a more 'pythonic' way of accomplishing it using a list comprehension:"
   ]
  },
  {
   "cell_type": "code",
   "execution_count": 48,
   "metadata": {},
   "outputs": [
    {
     "name": "stdout",
     "output_type": "stream",
     "text": [
      "['ace', 'acr', 'acr', 'aft', 'aft']\n"
     ]
    }
   ],
   "source": [
    "sorted_string = [''.join(sorted(s)) for s in string2]\n",
    "sorted_string.sort()\n",
    "\n",
    "print(sorted_string)"
   ]
  }
 ],
 "metadata": {
  "kernelspec": {
   "display_name": "Python 3",
   "language": "python",
   "name": "python3"
  },
  "language_info": {
   "codemirror_mode": {
    "name": "ipython",
    "version": 3
   },
   "file_extension": ".py",
   "mimetype": "text/x-python",
   "name": "python",
   "nbconvert_exporter": "python",
   "pygments_lexer": "ipython3",
   "version": "3.11.0"
  }
 },
 "nbformat": 4,
 "nbformat_minor": 2
}
