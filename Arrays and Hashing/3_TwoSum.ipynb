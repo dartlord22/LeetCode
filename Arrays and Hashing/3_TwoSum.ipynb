{
 "cells": [
  {
   "cell_type": "markdown",
   "metadata": {},
   "source": [
    "Given an array of integers 'nums' and an integer 'target', return indices of the two numbers such that they add up to 'target'."
   ]
  },
  {
   "cell_type": "code",
   "execution_count": 52,
   "metadata": {},
   "outputs": [],
   "source": [
    "nums = [2, 7, 11, 15]\n",
    "target = 18"
   ]
  },
  {
   "cell_type": "markdown",
   "metadata": {},
   "source": [
    "We are given a list of numbers [2, 7, 11, 15] and a target of 9.  We know just by looking that 2 and 7 are the numbers that will add up to 9, which would give us indices of 0 and 1 for our output.  Since the list is given to us, we could solve this by using if statements to check every combination of indices to see if they add up to our target:"
   ]
  },
  {
   "cell_type": "code",
   "execution_count": 53,
   "metadata": {},
   "outputs": [
    {
     "name": "stdout",
     "output_type": "stream",
     "text": [
      "The indices that add up to the target are 1, 2\n"
     ]
    }
   ],
   "source": [
    "# adding all of the indices together with if statements\n",
    "if nums[0] + nums[1] == target:\n",
    "    print('The indices that add up to the target are 0, 1')\n",
    "elif nums[0] + nums[2] == target:\n",
    "    print('The indices that add up to the target are 0, 2')\n",
    "elif nums[0] + nums[3] == target:\n",
    "    print('The indices that add up to the target are 0, 3')\n",
    "elif nums[1] + nums[2] == target:\n",
    "    print('The indices that add up to the target are 1, 2')\n",
    "elif nums[1] + nums[3] == target:\n",
    "    print('The indices that add up to the target are 1, 3')\n",
    "else:\n",
    "    print('The indices that add up to the target are 2, 3')"
   ]
  },
  {
   "cell_type": "markdown",
   "metadata": {},
   "source": [
    "While this should output the correct answer, it's a very long block of code to write out.  We also won't be able to use this code if we are given a list of a different length that we do not know.  Let's rewrite this using loops: "
   ]
  },
  {
   "cell_type": "code",
   "execution_count": 54,
   "metadata": {},
   "outputs": [
    {
     "name": "stdout",
     "output_type": "stream",
     "text": [
      "The indices that add up to the target are 1, 2\n"
     ]
    }
   ],
   "source": [
    "# using for loops to check every combination\n",
    "for i in range(len(nums)):\n",
    "    for j in range(i + 1, len(nums)):\n",
    "        if nums[i] + nums[j] == target:\n",
    "            print(\n",
    "                f'The indices that add up to the target are {i}, {j}')"
   ]
  },
  {
   "cell_type": "markdown",
   "metadata": {},
   "source": [
    "With the above code, we should now be able to take in any list given to us and receive the correct output.  \n",
    "\n",
    "**Code Breakdown:**\n",
    "\n",
    "- *for i in range(len(nums)):*\n",
    "    - This will iterate over all indices in the given list\n",
    "- *for j in range(i + 1, len(nums)):*\n",
    "    - For each index (i), we want to go through and compare it to each value at the other indices (j) in the rest of the list\n",
    "- *if nums[i] + nums[j] == target: print(f'The indices that add up to the target are {i}, {j}')*\n",
    "    - Check to see if the values add up to the target and print the indices (i and j) that add up to the target value"
   ]
  },
  {
   "cell_type": "markdown",
   "metadata": {},
   "source": [
    "We can rewrite this using the *enumerate()* (this is generally preferred to using *range(len())* but not always optimal in terms of speed):\n"
   ]
  },
  {
   "cell_type": "code",
   "execution_count": 55,
   "metadata": {},
   "outputs": [
    {
     "name": "stdout",
     "output_type": "stream",
     "text": [
      "The indices that add up to the target are 1, 2\n"
     ]
    }
   ],
   "source": [
    "for i, num_i in enumerate(nums):\n",
    "    for j, num_j in enumerate(nums[i + 1:], start=i + 1):\n",
    "        if num_i + num_j == target:\n",
    "            print(f'The indices that add up to the target are {i}, {j}')"
   ]
  }
 ],
 "metadata": {
  "kernelspec": {
   "display_name": "Python 3",
   "language": "python",
   "name": "python3"
  },
  "language_info": {
   "codemirror_mode": {
    "name": "ipython",
    "version": 3
   },
   "file_extension": ".py",
   "mimetype": "text/x-python",
   "name": "python",
   "nbconvert_exporter": "python",
   "pygments_lexer": "ipython3",
   "version": "3.11.0"
  }
 },
 "nbformat": 4,
 "nbformat_minor": 2
}
