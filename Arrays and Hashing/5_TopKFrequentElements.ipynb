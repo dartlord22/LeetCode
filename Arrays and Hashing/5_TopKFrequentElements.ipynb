{
 "cells": [
  {
   "cell_type": "markdown",
   "metadata": {},
   "source": [
    "Given an integer array nums and an integer K, return the K most frequent elements. You may return the answer in any order."
   ]
  },
  {
   "cell_type": "code",
   "execution_count": 38,
   "metadata": {},
   "outputs": [],
   "source": [
    "nums = [1,1,1,2,2,3]\n",
    "k = 2"
   ]
  },
  {
   "cell_type": "markdown",
   "metadata": {},
   "source": [
    "If done correctly, our output for the above should be [1,2].  My first thought is we can use count() here to get the number of times each value appears, and use that to find which values appear the most "
   ]
  },
  {
   "cell_type": "code",
   "execution_count": 39,
   "metadata": {},
   "outputs": [
    {
     "name": "stdout",
     "output_type": "stream",
     "text": [
      "[[1, 1, 1], [2, 2], [3]]\n"
     ]
    }
   ],
   "source": [
    "from collections import defaultdict\n",
    "\n",
    "def group_values(nums):\n",
    "    hashmap = defaultdict(list)\n",
    "    result = []\n",
    "    \n",
    "    for num in nums:\n",
    "        key = num  # Sort the characters of the string and use as key\n",
    "        hashmap[key].append(num)\n",
    "        \n",
    "    for value in hashmap.values():\n",
    "        result.append(value)\n",
    "\n",
    "    return result\n",
    "        \n",
    "grouped_list = group_values(nums)\n",
    "\n",
    "print(grouped_list)"
   ]
  },
  {
   "cell_type": "code",
   "execution_count": 40,
   "metadata": {},
   "outputs": [
    {
     "name": "stdout",
     "output_type": "stream",
     "text": [
      "3\n",
      "2\n",
      "1\n"
     ]
    }
   ],
   "source": [
    "for i in grouped_list:\n",
    "    print(len(i))"
   ]
  },
  {
   "cell_type": "markdown",
   "metadata": {},
   "source": [
    "This was the point where I gave up and started asking for help because I was spending too much time on this one problem.  Here is what I have been given as a solution:"
   ]
  },
  {
   "cell_type": "markdown",
   "metadata": {},
   "source": [
    "1. Count the Frequency"
   ]
  },
  {
   "cell_type": "code",
   "execution_count": 41,
   "metadata": {},
   "outputs": [
    {
     "name": "stdout",
     "output_type": "stream",
     "text": [
      "Counter({1: 3, 2: 2, 3: 1})\n"
     ]
    }
   ],
   "source": [
    "from collections import defaultdict, Counter\n",
    "\n",
    "nums = [1, 1, 1, 2, 2, 3]\n",
    "k = 2\n",
    "\n",
    "# Step 1: Count the frequency of each element\n",
    "def count_frequency(nums):\n",
    "    frequency_map = Counter(nums)  # Counter creates a dictionary of frequencies\n",
    "    return frequency_map\n",
    "\n",
    "frequency_map = count_frequency(nums)\n",
    "print(frequency_map) \n"
   ]
  },
  {
   "cell_type": "markdown",
   "metadata": {},
   "source": [
    "2. Group Elements by Frequency"
   ]
  },
  {
   "cell_type": "code",
   "execution_count": 42,
   "metadata": {},
   "outputs": [
    {
     "name": "stdout",
     "output_type": "stream",
     "text": [
      "defaultdict(<class 'list'>, {3: [1], 2: [2], 1: [3]})\n"
     ]
    }
   ],
   "source": [
    "def group_by_frequency(frequency_map):\n",
    "    grouped_map = defaultdict(list)\n",
    "    for num, freq in frequency_map.items():\n",
    "        grouped_map[freq].append(num)\n",
    "    return grouped_map\n",
    "\n",
    "grouped_map = group_by_frequency(frequency_map)\n",
    "print(grouped_map)  \n"
   ]
  },
  {
   "cell_type": "markdown",
   "metadata": {},
   "source": [
    "3. Extract the Top K Frequent Elements"
   ]
  },
  {
   "cell_type": "code",
   "execution_count": 43,
   "metadata": {},
   "outputs": [
    {
     "name": "stdout",
     "output_type": "stream",
     "text": [
      "[1, 2]\n"
     ]
    }
   ],
   "source": [
    "def top_k_frequent(nums, k):\n",
    "    frequency_map = count_frequency(nums)\n",
    "    grouped_map = group_by_frequency(frequency_map)\n",
    "    \n",
    "    result = []\n",
    "    # Iterate over the frequencies in descending order\n",
    "    for freq in sorted(grouped_map.keys(), reverse=True):\n",
    "        for num in grouped_map[freq]:\n",
    "            result.append(num)\n",
    "            if len(result) == k:\n",
    "                return result\n",
    "\n",
    "# Example usage\n",
    "print(top_k_frequent(nums, k)) \n"
   ]
  },
  {
   "cell_type": "markdown",
   "metadata": {},
   "source": []
  }
 ],
 "metadata": {
  "kernelspec": {
   "display_name": "Python 3",
   "language": "python",
   "name": "python3"
  },
  "language_info": {
   "codemirror_mode": {
    "name": "ipython",
    "version": 3
   },
   "file_extension": ".py",
   "mimetype": "text/x-python",
   "name": "python",
   "nbconvert_exporter": "python",
   "pygments_lexer": "ipython3",
   "version": "3.11.0"
  }
 },
 "nbformat": 4,
 "nbformat_minor": 2
}
