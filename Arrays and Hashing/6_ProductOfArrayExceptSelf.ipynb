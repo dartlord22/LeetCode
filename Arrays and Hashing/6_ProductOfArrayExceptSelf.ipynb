{
 "cells": [
  {
   "cell_type": "markdown",
   "metadata": {},
   "source": [
    "Given an integer array nums, return an array answer such that answer[i] is equal to the product of all the elements of nums except nums[i].\n",
    "\n",
    "In plain english: For each index in a given list, find the product of all values in the list EXCLUDING the value of the index you are currently at in the list.  \n",
    "\n",
    "Example:  If list = [1,2,3,4], we would first start by multiplying 2x3x4 at list[0], then 1x3x4 at list[1], then 1x2x4 at list[2], and lastly 1x2x3 at list[3].  We should get an output of [24,12,8,6]"
   ]
  },
  {
   "cell_type": "code",
   "execution_count": 12,
   "metadata": {},
   "outputs": [
    {
     "data": {
      "text/plain": [
       "[24.0, 12.0, 8.0, 6.0]"
      ]
     },
     "execution_count": 12,
     "metadata": {},
     "output_type": "execute_result"
    }
   ],
   "source": [
    "import math\n",
    "\n",
    "nums = [1,2,3,4]\n",
    "\n",
    "def PoAES(arr):\n",
    "    product_list = []\n",
    "    for num in arr:\n",
    "        product = math.prod(arr)/num\n",
    "        product_list.append(product)\n",
    "        \n",
    "    return product_list\n",
    "    \n",
    "PoAES(nums)"
   ]
  },
  {
   "cell_type": "markdown",
   "metadata": {},
   "source": [
    "My first thought was I could probably use a function to find the product of all values in the list, similar to how you can use sum() to find the sum of all values.  Here are the steps:\n",
    "\n",
    "1. Started by importing the math library so I could use the prod() function\n",
    "2. Initialize an empty list to store our new values in \n",
    "3. Use a for loop to run through each value in the list, finding the product along the way.  As long as we divide out the value at whatever index we are at every time, we should get the correct product value\n",
    "4. Finally I just used append() to store the value in the empty list for each loop"
   ]
  }
 ],
 "metadata": {
  "kernelspec": {
   "display_name": "Python 3",
   "language": "python",
   "name": "python3"
  },
  "language_info": {
   "codemirror_mode": {
    "name": "ipython",
    "version": 3
   },
   "file_extension": ".py",
   "mimetype": "text/x-python",
   "name": "python",
   "nbconvert_exporter": "python",
   "pygments_lexer": "ipython3",
   "version": "3.11.0"
  }
 },
 "nbformat": 4,
 "nbformat_minor": 2
}
