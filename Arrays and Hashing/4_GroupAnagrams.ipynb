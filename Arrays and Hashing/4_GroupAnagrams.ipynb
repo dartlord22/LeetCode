{
 "cells": [
  {
   "cell_type": "markdown",
   "metadata": {},
   "source": [
    "Given an array of strings strs, group the anagrams together. You can return the answer in any order."
   ]
  },
  {
   "cell_type": "code",
   "execution_count": 8,
   "metadata": {},
   "outputs": [],
   "source": [
    "string1 = [\"eat\",\"tea\",\"tan\",\"ate\",\"nat\",\"bat\"]\n",
    "string2 = ['car', 'arc', 'fat', 'aft', 'ace']"
   ]
  },
  {
   "cell_type": "markdown",
   "metadata": {},
   "source": [
    "My first thought is to just sort each of the strings in the list with a for loop and return the list sorted. This should give us back a list with all alike anagrams grouped together:"
   ]
  },
  {
   "cell_type": "code",
   "execution_count": 9,
   "metadata": {},
   "outputs": [
    {
     "data": {
      "text/plain": [
       "['aet', 'ate', 'bat', 'nat', 'tan', 'tea']"
      ]
     },
     "execution_count": 9,
     "metadata": {},
     "output_type": "execute_result"
    }
   ],
   "source": [
    "def sort_strings(list):\n",
    "    for i in range(len(list)):\n",
    "        list[i] = ''.join(sorted(list[i]))\n",
    "        list.sort()\n",
    "        return list\n",
    "\n",
    "sort_strings(string1)"
   ]
  },
  {
   "cell_type": "markdown",
   "metadata": {},
   "source": [
    "Same concept with this next one but a more 'pythonic' way of accomplishing it using a list comprehension:"
   ]
  },
  {
   "cell_type": "code",
   "execution_count": 10,
   "metadata": {},
   "outputs": [
    {
     "name": "stdout",
     "output_type": "stream",
     "text": [
      "['ace', 'acr', 'acr', 'aft', 'aft']\n"
     ]
    }
   ],
   "source": [
    "sorted_string = [''.join(sorted(s)) for s in string2]\n",
    "sorted_string.sort()\n",
    "\n",
    "print(sorted_string)"
   ]
  },
  {
   "cell_type": "markdown",
   "metadata": {},
   "source": [
    "Using a HashMap to solve:"
   ]
  },
  {
   "cell_type": "code",
   "execution_count": 11,
   "metadata": {},
   "outputs": [
    {
     "name": "stdout",
     "output_type": "stream",
     "text": [
      "[['eat', 'tea', 'ate'], ['tan', 'nat'], ['bat']]\n"
     ]
    }
   ],
   "source": [
    "def groupAnagrams(strings):\n",
    "    anagram_map = {}\n",
    "    result = []\n",
    "\n",
    "    for s in strings:\n",
    "        sorted_s = tuple(sorted(s))  # Sort the characters of the string and use as key\n",
    "        if sorted_s not in anagram_map:\n",
    "            anagram_map[sorted_s] = []  # Initialize list if key does not exist\n",
    "        anagram_map[sorted_s].append(s)  # Group anagrams together\n",
    "\n",
    "    for value in anagram_map.values():\n",
    "        result.append(value)  # Collect the grouped anagrams\n",
    "\n",
    "    return result\n",
    "\n",
    "# Example usage\n",
    "string1 = [\"eat\", \"tea\", \"tan\", \"ate\", \"nat\", \"bat\"]\n",
    "print(groupAnagrams(string1)) \n"
   ]
  },
  {
   "cell_type": "markdown",
   "metadata": {},
   "source": [
    "Utilizing defaultdict in place of an empty {}:"
   ]
  },
  {
   "cell_type": "code",
   "execution_count": 12,
   "metadata": {},
   "outputs": [
    {
     "name": "stdout",
     "output_type": "stream",
     "text": [
      "[['eat', 'tea', 'ate'], ['tan', 'nat'], ['bat']]\n"
     ]
    }
   ],
   "source": [
    "from collections import defaultdict\n",
    "\n",
    "from collections import defaultdict\n",
    "\n",
    "def groupAnagrams(strings):\n",
    "    anagram_map = defaultdict(list)\n",
    "    result = []\n",
    "\n",
    "    for s in strings:\n",
    "        sorted_s = tuple(sorted(s))  # Sort the characters of the string and use as key\n",
    "        anagram_map[sorted_s].append(s)  # Group anagrams together\n",
    "\n",
    "    for value in anagram_map.values():\n",
    "        result.append(value)  # Collect the grouped anagrams\n",
    "\n",
    "    return result\n",
    "\n",
    "# Example usage\n",
    "string1 = [\"eat\", \"tea\", \"tan\", \"ate\", \"nat\", \"bat\"]\n",
    "print(groupAnagrams(string1)) \n",
    "\n",
    "\n",
    " "
   ]
  },
  {
   "cell_type": "markdown",
   "metadata": {},
   "source": [
    "Using defaultdict elimates the step where we previously had to initialize list if key does not exist"
   ]
  }
 ],
 "metadata": {
  "kernelspec": {
   "display_name": "Python 3",
   "language": "python",
   "name": "python3"
  },
  "language_info": {
   "codemirror_mode": {
    "name": "ipython",
    "version": 3
   },
   "file_extension": ".py",
   "mimetype": "text/x-python",
   "name": "python",
   "nbconvert_exporter": "python",
   "pygments_lexer": "ipython3",
   "version": "3.11.0"
  }
 },
 "nbformat": 4,
 "nbformat_minor": 2
}
