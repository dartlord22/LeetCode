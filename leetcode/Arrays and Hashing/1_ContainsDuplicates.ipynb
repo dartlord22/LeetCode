{
 "cells": [
  {
   "cell_type": "markdown",
   "metadata": {},
   "source": [
    "## 217. Contains Duplicates\n",
    "Given an integer array nums, return true if any value appears at least twice in the array, and return false if every element is distinct."
   ]
  },
  {
   "cell_type": "code",
   "execution_count": 11,
   "metadata": {},
   "outputs": [],
   "source": [
    "nums1 = [1,2,3,1]\n",
    "nums2 = [1,2,3,4]"
   ]
  },
  {
   "cell_type": "markdown",
   "metadata": {},
   "source": [
    "## Solution\n",
    "Given that we are given the two lists above with a length that is known, we could solve this by comparing all indices to each other using just if statements:"
   ]
  },
  {
   "cell_type": "code",
   "execution_count": 12,
   "metadata": {},
   "outputs": [
    {
     "data": {
      "text/plain": [
       "False"
      ]
     },
     "execution_count": 12,
     "metadata": {},
     "output_type": "execute_result"
    }
   ],
   "source": [
    "def contains_duplicates(nums):\n",
    "    if nums[0] == nums[1]:\n",
    "        return True\n",
    "    elif nums[0] == nums[2]:\n",
    "        return True\n",
    "    elif nums[0] == nums[3]:\n",
    "        return True\n",
    "    elif nums[1] == nums[2]:\n",
    "        return True\n",
    "    elif nums[1] == nums[3]:\n",
    "        return True\n",
    "    elif nums[2] == nums[3]:\n",
    "        return True\n",
    "    else:\n",
    "        return False\n",
    "    \n",
    "contains_duplicates(nums2)\n",
    "  \n",
    "        "
   ]
  },
  {
   "cell_type": "markdown",
   "metadata": {},
   "source": [
    "## Solution 2\n",
    "\n",
    "Of course, this will only really work for lists with a length of 4.  We would rather try to make a function that could solve for a list of any given length.  We could accomplish this by using loops:"
   ]
  },
  {
   "cell_type": "code",
   "execution_count": 13,
   "metadata": {},
   "outputs": [
    {
     "data": {
      "text/plain": [
       "False"
      ]
     },
     "execution_count": 13,
     "metadata": {},
     "output_type": "execute_result"
    }
   ],
   "source": [
    "def contains_duplicates(nums):\n",
    "    for i in range(len(nums)):\n",
    "        for j in range(i + 1, len(nums)):\n",
    "            if nums[i] == nums[j]:\n",
    "                return True\n",
    "            \n",
    "    return False\n",
    "\n",
    "contains_duplicates(nums2)"
   ]
  },
  {
   "cell_type": "markdown",
   "metadata": {},
   "source": [
    "Using the enumerate() function instead of range(len()):"
   ]
  },
  {
   "cell_type": "code",
   "execution_count": 14,
   "metadata": {},
   "outputs": [
    {
     "name": "stdout",
     "output_type": "stream",
     "text": [
      "True\n",
      "False\n"
     ]
    }
   ],
   "source": [
    "def contains_duplicates(nums):\n",
    "    for i, num_i in enumerate(nums):\n",
    "        for _, num_j in enumerate(nums[i + 1:], start=i + 1):\n",
    "            if num_i == num_j:\n",
    "                return True\n",
    "            #else:\n",
    "                #return False (this causes the function to return False on the first non-duplicate pair it encounters)\n",
    "                \n",
    "    return False #ensure it only returns false after all pairs have been checked \n",
    "      \n",
    "print(contains_duplicates(nums1))\n",
    "print(contains_duplicates(nums2))\n",
    "\n",
    "    \n",
    "    "
   ]
  },
  {
   "cell_type": "markdown",
   "metadata": {},
   "source": [
    "## Solution 3\n",
    "\n",
    "Much more elegant solution to whatever the heck I was doing before: "
   ]
  },
  {
   "cell_type": "code",
   "execution_count": 15,
   "metadata": {},
   "outputs": [
    {
     "data": {
      "text/plain": [
       "False"
      ]
     },
     "execution_count": 15,
     "metadata": {},
     "output_type": "execute_result"
    }
   ],
   "source": [
    "def contains_duplicates(nums1, nums2):\n",
    "    for num in nums1:\n",
    "        if num in nums2:\n",
    "            return True\n",
    "    \n",
    "    return False\n",
    "\n",
    "list1 = [1,2,3]\n",
    "list2 = [6,4,5]\n",
    "contains_duplicates(list1, list2)"
   ]
  },
  {
   "cell_type": "markdown",
   "metadata": {},
   "source": [
    "## Time Complexity\n",
    "\n",
    "### Solution 1: \n",
    "\n",
    "Even though this is a lot of code to write out, it's actually very efficient.  \n",
    "\n",
    "**Number of Comparisons**: The function always performs exactly 6 comparisons, which is a constant number.\n",
    "\n",
    "**Constant Time Complexity**: Since the number of operations does not depend on the size of the input list but is fixed, the time complexity is O(1).\n",
    "\n",
    "### Solution 2: \n",
    "\n",
    "This one uses two for loops, and runs in quadratic time O(n^2)\n",
    "\n",
    "### Solution 3: \n",
    "\n",
    "This one should run in linear time O(n), so it's more efficient than the second solution while being simply to write out "
   ]
  }
 ],
 "metadata": {
  "kernelspec": {
   "display_name": "Python 3",
   "language": "python",
   "name": "python3"
  },
  "language_info": {
   "codemirror_mode": {
    "name": "ipython",
    "version": 3
   },
   "file_extension": ".py",
   "mimetype": "text/x-python",
   "name": "python",
   "nbconvert_exporter": "python",
   "pygments_lexer": "ipython3",
   "version": "3.11.0"
  }
 },
 "nbformat": 4,
 "nbformat_minor": 2
}
