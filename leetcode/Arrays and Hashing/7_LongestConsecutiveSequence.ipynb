{
 "cells": [
  {
   "cell_type": "markdown",
   "metadata": {},
   "source": [
    "Given an unsorted array of integers nums, return the length of the longest consecutive elements sequence. \n",
    "\n",
    "Example:\n",
    "\n",
    "Input: nums = [100,4,200,1,3,2]\n",
    "Output: 4"
   ]
  },
  {
   "cell_type": "code",
   "execution_count": 11,
   "metadata": {},
   "outputs": [
    {
     "name": "stdout",
     "output_type": "stream",
     "text": [
      "[1, 2, 3, 4]\n"
     ]
    }
   ],
   "source": [
    "def longest_consecutive(nums):\n",
    "    if not nums:\n",
    "        return []\n",
    "    \n",
    "    num_set = set(nums)\n",
    "    longest_seq = []\n",
    "    \n",
    "    for num in num_set:\n",
    "        # Check if `num` is the start of a sequence\n",
    "        if num - 1 not in num_set:\n",
    "            current_num = num\n",
    "            current_seq = [current_num]\n",
    "            \n",
    "            # Build the sequence from `num`\n",
    "            while current_num + 1 in num_set:\n",
    "                current_num += 1\n",
    "                current_seq.append(current_num)\n",
    "            \n",
    "            # Update the longest sequence if the current one is longer\n",
    "            if len(current_seq) > len(longest_seq):\n",
    "                longest_seq = current_seq\n",
    "    \n",
    "    return longest_seq\n",
    "\n",
    "nums = [100, 4, 200, 1, 3, 2]\n",
    "print(longest_consecutive(nums))  # Output: [1, 2, 3, 4]\n"
   ]
  }
 ],
 "metadata": {
  "kernelspec": {
   "display_name": "Python 3",
   "language": "python",
   "name": "python3"
  },
  "language_info": {
   "codemirror_mode": {
    "name": "ipython",
    "version": 3
   },
   "file_extension": ".py",
   "mimetype": "text/x-python",
   "name": "python",
   "nbconvert_exporter": "python",
   "pygments_lexer": "ipython3",
   "version": "3.11.0"
  }
 },
 "nbformat": 4,
 "nbformat_minor": 2
}
