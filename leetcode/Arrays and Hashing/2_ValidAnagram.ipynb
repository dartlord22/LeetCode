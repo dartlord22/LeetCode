{
 "cells": [
  {
   "cell_type": "markdown",
   "metadata": {},
   "source": [
    "## 242. Valid Anagram"
    "An Anagram is a word or phrase formed by rearranging the letters of a different word or phrase, typically using all the original letters exactly once.\n",
    "\n",
    "Given two strings 's' and 't', return True if 't' is an anagram of 's', and False otherwise."
   ]
  },
  {
   "cell_type": "code",
   "execution_count": 2,
   "metadata": {},
   "outputs": [],
   "source": [
    "a = 'rat'\n",
    "b = 'car'\n",
    "\n",
    "x = 'anagram'\n",
    "y = 'nagaram'"
   ]
  },
  {
   "cell_type": "markdown",
   "metadata": {},
   "source": [
    "For this, all I did was define a function that takes in 2 lists to compare and loop through each character in the list.  If there is a character in list1 that is not present in list2 then it's not an anagram, since anagrams share the same characters just out of order.  We also need to make sure that the lists are of the same lenght, otherwise we might run into a situation where all of the characters in list1 are technically in list2, but list2 has additional characters outside of those in list1 (i.e. list1 = prod, list2 = production)"
   ]
  },
  {
   "cell_type": "code",
   "execution_count": 3,
   "metadata": {},
   "outputs": [
    {
     "name": "stdout",
     "output_type": "stream",
     "text": [
      "False\n",
      "True\n"
     ]
    }
   ],
   "source": [
    "def is_anagram(list1, list2):\n",
    "    if len(list1) != len(list2):\n",
    "        return False\n",
    "    for char in list1:\n",
    "        if char not in list2:\n",
    "            return False\n",
    "    return True\n",
    "\n",
    "print(is_anagram(a, b))\n",
    "print(is_anagram(x, y))  "
   ]
  }
 ],
 "metadata": {
  "kernelspec": {
   "display_name": "Python 3",
   "language": "python",
   "name": "python3"
  },
  "language_info": {
   "codemirror_mode": {
    "name": "ipython",
    "version": 3
   },
   "file_extension": ".py",
   "mimetype": "text/x-python",
   "name": "python",
   "nbconvert_exporter": "python",
   "pygments_lexer": "ipython3",
   "version": "3.11.0"
  }
 },
 "nbformat": 4,
 "nbformat_minor": 2
}
