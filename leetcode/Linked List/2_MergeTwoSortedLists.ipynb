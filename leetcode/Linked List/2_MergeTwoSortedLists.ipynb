{
 "cells": [
  {
   "cell_type": "markdown",
   "metadata": {},
   "source": [
    "You are given the heads of two sorted linked lists list1 and list2.\n",
    "\n",
    "Merge the two lists into one sorted list. The list should be made by splicing together the nodes of the first two lists.\n",
    "\n",
    "Return the head of the merged linked list.\n",
    "\n",
    "Example:\n",
    "\n",
    "Input: list1 = [1,2,4], list2 = [1,3,4]\n",
    "Output: [1,1,2,3,4,4]"
   ]
  },
  {
   "cell_type": "code",
   "execution_count": 7,
   "metadata": {},
   "outputs": [
    {
     "name": "stdout",
     "output_type": "stream",
     "text": [
      "[1, 1, 2, 3, 4, 4]\n"
     ]
    }
   ],
   "source": [
    "list1 = [1,2,4]\n",
    "list2 = [1,3,4]\n",
    "\n",
    "combined = sorted(list1 + list2)\n",
    "\n",
    "print(combined)"
   ]
  },
  {
   "cell_type": "markdown",
   "metadata": {},
   "source": [
    "Again, didn't understand what a linked list was.  Will need to solve this a different way.  "
   ]
  },
  {
   "cell_type": "code",
   "execution_count": 11,
   "metadata": {},
   "outputs": [
    {
     "name": "stdout",
     "output_type": "stream",
     "text": [
      "1 -> 2 -> 4 -> None\n",
      "1 -> 3 -> 4 -> None\n",
      "1 -> 1 -> 2 -> 3 -> 4 -> 4 -> None\n"
     ]
    }
   ],
   "source": [
    "class Node:\n",
    "    def __init__(self, value, next_node=None):\n",
    "        self.value = value\n",
    "        self.next_node = next_node \n",
    "                       \n",
    "class LinkedList:\n",
    "    def __init__(self, head=None):\n",
    "        self.head = head\n",
    "\n",
    "#function for inserting nodes\n",
    "    def insert(self, value):\n",
    "        node = Node(value)\n",
    "        if self.head is None:\n",
    "            self.head = node\n",
    "            return\n",
    "            \n",
    "        current_node = self.head\n",
    "        while True:\n",
    "            if current_node.next_node is None:\n",
    "                current_node.next_node = node\n",
    "                break\n",
    "            current_node = current_node.next_node\n",
    "            \n",
    "    def merge_lists(self, other_list):\n",
    "        temp = Node(0)  # Temporary node to hold the result\n",
    "        tail = temp\n",
    "        \n",
    "        p1 = self.head\n",
    "        p2 = other_list.head\n",
    "        \n",
    "        while p1 and p2:\n",
    "            if p1.value < p2.value:\n",
    "                tail.next_node = p1\n",
    "                p1 = p1.next_node\n",
    "            else:\n",
    "                tail.next_node = p2\n",
    "                p2 = p2.next_node\n",
    "            tail = tail.next_node\n",
    "        \n",
    "        # Append the remaining nodes of p1 or p2\n",
    "        if p1:\n",
    "            tail.next_node = p1\n",
    "        elif p2:\n",
    "            tail.next_node = p2\n",
    "        \n",
    "        self.head = temp.next_node  # Update head to the start of the merged list\n",
    "                \n",
    "    def print_list(self):\n",
    "        current_node = self.head\n",
    "        while current_node is not None:\n",
    "            print(current_node.value, end=' -> ')\n",
    "            current_node = current_node.next_node\n",
    "        print('None')\n",
    "\n",
    "list1 = LinkedList()\n",
    "list1.insert(1)\n",
    "list1.insert(2)\n",
    "list1.insert(4)\n",
    "\n",
    "list2 = LinkedList()\n",
    "list2.insert(1)\n",
    "list2.insert(3)\n",
    "list2.insert(4)\n",
    "\n",
    "list1.print_list()\n",
    "list2.print_list()\n",
    "\n",
    "list1.merge_lists(list2)\n",
    "list1.print_list()\n",
    "\n",
    "\n"
   ]
  }
 ],
 "metadata": {
  "kernelspec": {
   "display_name": "Python 3",
   "language": "python",
   "name": "python3"
  },
  "language_info": {
   "codemirror_mode": {
    "name": "ipython",
    "version": 3
   },
   "file_extension": ".py",
   "mimetype": "text/x-python",
   "name": "python",
   "nbconvert_exporter": "python",
   "pygments_lexer": "ipython3",
   "version": "3.11.0"
  }
 },
 "nbformat": 4,
 "nbformat_minor": 2
}
