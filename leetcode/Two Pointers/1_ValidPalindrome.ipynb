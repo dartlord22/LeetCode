{
 "cells": [
  {
   "cell_type": "markdown",
   "metadata": {},
   "source": [
    "# Problem \n",
    "\n",
    "A phrase is a palindrome if, after converting all uppercase letters into lowercase letters and removing all non-alphanumeric characters, it reads the same forward and backward. Alphanumeric characters include letters and numbers."
   ]
  },
  {
   "cell_type": "markdown",
   "metadata": {},
   "source": [
    "# Solution\n",
    "\n",
    "Given the above, I took the phrase \"A man, a plan, a canal: Panama\", and converted it to a string that was all lowercase with the non-alphanumeric characters removed.  Then I just defined a function that checks to see if the string is the same forwards as it is backwards using slicing."
   ]
  },
  {
   "cell_type": "code",
   "execution_count": 1,
   "metadata": {},
   "outputs": [
    {
     "name": "stdout",
     "output_type": "stream",
     "text": [
      "It is indeed a palindrome\n"
     ]
    }
   ],
   "source": [
    "s = \"A man, a plan, a canal: Panama\"\n",
    "\n",
    "class Solution:\n",
    "    def palindrome_check(self, s):\n",
    "        s = s.lower().replace(' ','').replace(',','').replace(':','') \n",
    "        if s == s[::-1]:\n",
    "            print(\"It is indeed a palindrome\")\n",
    "        else:\n",
    "            print(\"It is not a palindrome\")\n",
    "\n",
    "s2 = Solution()\n",
    "s2.palindrome_check(s)\n",
    "\n"
   ]
  },
  {
   "cell_type": "markdown",
   "metadata": {},
   "source": [
    "# Total Time Complexity\n",
    "\n",
    "Lowercasing the string: O(n)\n",
    "Replacing characters: O(n) for each replace, so O(n) overall.\n",
    "Reversing the string: O(n)\n",
    "Comparing the strings: O(n)\n",
    "\n",
    "Since these operations are performed sequentially, the total time complexity is:\n",
    "\n",
    "𝑂(𝑛)+𝑂(𝑛)+𝑂(𝑛)+𝑂(𝑛)\n",
    "\n",
    "which could be written as 𝑂(4𝑛)\n",
    "\n",
    "In Big-O notation, we drop constant factors because they do not significantly impact the growth rate of the function as n becomes large.\n",
    "𝑂(4𝑛) simplifies to 𝑂(𝑛)\n",
    "\n",
    "\n",
    "# Conclusion\n",
    "\n",
    "The overall time complexity of the function is O(n), where 𝑛 is the length of the string. This means the function runs in linear time relative to the size of the input string."
   ]
  }
 ],
 "metadata": {
  "kernelspec": {
   "display_name": "Python 3",
   "language": "python",
   "name": "python3"
  },
  "language_info": {
   "codemirror_mode": {
    "name": "ipython",
    "version": 3
   },
   "file_extension": ".py",
   "mimetype": "text/x-python",
   "name": "python",
   "nbconvert_exporter": "python",
   "pygments_lexer": "ipython3",
   "version": "3.11.0"
  }
 },
 "nbformat": 4,
 "nbformat_minor": 2
}
