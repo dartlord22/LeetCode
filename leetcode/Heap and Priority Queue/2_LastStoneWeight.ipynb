{
 "cells": [
  {
   "cell_type": "markdown",
   "metadata": {},
   "source": [
    "##  Last Stone Weight\n",
    "\n",
    "You are given an array of integers stones where stones[i] is the weight of the ith stone.\n",
    "\n",
    "We are playing a game with the stones. On each turn, we choose the heaviest two stones and smash them together. Suppose the heaviest two stones have weights x and y with x <= y. The result of this smash is:\n",
    "\n",
    "If x == y, both stones are destroyed, and\n",
    "If x != y, the stone of weight x is destroyed, and the stone of weight y has new weight y - x.\n",
    "At the end of the game, there is at most one stone left.\n",
    "\n",
    "Return the weight of the last remaining stone. If there are no stones left, return 0.\n",
    "\n",
    "Example 1:\n",
    "\n",
    "Input: stones = [2,7,4,1,8,1]\n",
    "Output: 1\n",
    "Explanation: \n",
    "We combine 7 and 8 to get 1 so the array converts to [2,4,1,1,1] then,\n",
    "we combine 2 and 4 to get 2 so the array converts to [2,1,1,1] then,\n",
    "we combine 2 and 1 to get 1 so the array converts to [1,1,1] then,\n",
    "we combine 1 and 1 to get 0 so the array converts to [1] then that's the value of the last stone."
   ]
  },
  {
   "cell_type": "markdown",
   "metadata": {},
   "source": [
    "**Solution Attempt 1:**\n",
    "\n",
    "My first thought is we can just sort the list and take the last 2 values from the list: "
   ]
  },
  {
   "cell_type": "code",
   "execution_count": 20,
   "metadata": {},
   "outputs": [
    {
     "data": {
      "text/plain": [
       "[1]"
      ]
     },
     "execution_count": 20,
     "metadata": {},
     "output_type": "execute_result"
    }
   ],
   "source": [
    "def lastStoneWeight(stones):\n",
    "    stones.sort()\n",
    "    while len(stones) >= 2: \n",
    "        val = stones[-1] - stones[-2]\n",
    "        stones.pop(-1)\n",
    "        stones.pop(-1)\n",
    "        stones.append(val)\n",
    "        stones.sort()\n",
    "    return stones\n",
    "\n",
    "stones = [2,3,4,3,3]\n",
    "\n",
    "lastStoneWeight(stones)\n",
    "        "
   ]
  },
  {
   "cell_type": "markdown",
   "metadata": {},
   "source": [
    "Apparently, I should be solving this using heap sorting..so let's try that.  \n",
    "\n",
    "**Solution Attempt 2:**"
   ]
  },
  {
   "cell_type": "code",
   "execution_count": 35,
   "metadata": {},
   "outputs": [
    {
     "name": "stdout",
     "output_type": "stream",
     "text": [
      "1\n"
     ]
    }
   ],
   "source": [
    "import heapq\n",
    "\n",
    "def lastStoneWeight(stones):\n",
    "    # Convert stones to a max-heap by negating the values\n",
    "    max_heap = [-x for x in stones]\n",
    "    heapq.heapify(max_heap)\n",
    "    \n",
    "    while len(max_heap) > 1:\n",
    "        # Pop the two largest stones (negated to get the actual values)\n",
    "        first = -heapq.heappop(max_heap)\n",
    "        second = -heapq.heappop(max_heap)\n",
    "        \n",
    "        # If the stones are not the same, push the difference back (negated again)\n",
    "        if first != second:\n",
    "            heapq.heappush(max_heap, -(first - second))\n",
    "    \n",
    "    # If there's any stone left, return its value (negated to get the actual value)\n",
    "    # Otherwise, return 0\n",
    "    return -max_heap[0] if max_heap else 0\n",
    "\n",
    "# Example usage\n",
    "stones = [2, 7, 4, 1, 8, 1]\n",
    "print(lastStoneWeight(stones))  # Output should be 1\n"
   ]
  },
  {
   "cell_type": "markdown",
   "metadata": {},
   "source": [
    "**Breakdown of the above:**\n",
    "\n",
    "- heapify() will arrange the list so that the smallest element is at the root, but the rest of the elements are not guaranteed to be in any particular order\n",
    "- since we want the largest value, we are converting all of the values to negative values (or inverse of whatever they were) so that the largest value is sorted to the front of the array\n",
    "- then we use heappop() which removes the smallest element from the heap (so in this case, it would be the previous largest element that we changed to a negative value).  We then take the inverse of that element (-heapq.heappop(max_heap)) to convert it back to its original value\n",
    "- then for the rest of the function, we just return the difference between the largest and second largest if it exists (is not 0)"
   ]
  }
 ],
 "metadata": {
  "kernelspec": {
   "display_name": "Python 3",
   "language": "python",
   "name": "python3"
  },
  "language_info": {
   "codemirror_mode": {
    "name": "ipython",
    "version": 3
   },
   "file_extension": ".py",
   "mimetype": "text/x-python",
   "name": "python",
   "nbconvert_exporter": "python",
   "pygments_lexer": "ipython3",
   "version": "3.11.0"
  }
 },
 "nbformat": 4,
 "nbformat_minor": 2
}
