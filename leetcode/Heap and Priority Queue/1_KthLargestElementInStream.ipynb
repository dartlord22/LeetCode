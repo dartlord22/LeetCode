{
 "cells": [
  {
   "cell_type": "markdown",
   "metadata": {},
   "source": [
    "## Kth Largest Element In Stream \n",
    "\n",
    "Design a class to find the kth largest element in a stream. Note that it is the kth largest element in the sorted order, not the kth distinct element.\n",
    "\n",
    "Implement KthLargest class:\n",
    "\n",
    "- KthLargest(int k, int[] nums) Initializes the object with the integer k and the stream of integers nums.\n",
    "- int add(int val) Appends the integer val to the stream and returns the element representing the kth largest element in the stream.\n",
    " \n",
    "**Solution:**"
   ]
  },
  {
   "cell_type": "code",
   "execution_count": 7,
   "metadata": {},
   "outputs": [],
   "source": [
    "import heapq\n",
    "\n",
    "class KthLargest:\n",
    "    def __init__(self, k, nums):\n",
    "        self.nums, self.k = nums, k\n",
    "        #use heapify to bring the smallest value to the front\n",
    "        heapq.heapify(nums)\n",
    "        #remove numbers until we have a len of k\n",
    "        while len(nums) > k:\n",
    "            heapq.heappop(nums)\n",
    "            \n",
    "    def add(self, val):\n",
    "        heapq.heappush(self.nums, val)\n",
    "        if len(self.nums) > self.k:    \n",
    "            heapq.heappop(self.nums)\n",
    "        return self.nums[0]\n",
    "    \n",
    "\n"
   ]
  },
  {
   "cell_type": "markdown",
   "metadata": {},
   "source": [
    "Something to note with the above:  The smallest value will always go to the front when we use heappush(), so we don't have to use heapify() after every push.  Generally, though, it will push the value to the end of the heap."
   ]
  },
  {
   "cell_type": "code",
   "execution_count": 8,
   "metadata": {},
   "outputs": [
    {
     "name": "stdout",
     "output_type": "stream",
     "text": [
      "[-1, 2, 1, 4, 3, 3, 2]\n"
     ]
    }
   ],
   "source": [
    "import heapq\n",
    "\n",
    "arr = [1,2,3,4]\n",
    "heapq.heappush(arr, 3)\n",
    "heapq.heappush(arr,-1)\n",
    "heapq.heappush(arr,2)\n",
    "\n",
    "print(arr)"
   ]
  }
 ],
 "metadata": {
  "kernelspec": {
   "display_name": "Python 3",
   "language": "python",
   "name": "python3"
  },
  "language_info": {
   "codemirror_mode": {
    "name": "ipython",
    "version": 3
   },
   "file_extension": ".py",
   "mimetype": "text/x-python",
   "name": "python",
   "nbconvert_exporter": "python",
   "pygments_lexer": "ipython3",
   "version": "3.11.0"
  }
 },
 "nbformat": 4,
 "nbformat_minor": 2
}
