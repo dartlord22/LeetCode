{
 "cells": [
  {
   "cell_type": "markdown",
   "metadata": {},
   "source": [
    "Given the head of a singly linked list, reverse the list, and return the reversed list."
   ]
  },
  {
   "cell_type": "code",
   "execution_count": 12,
   "metadata": {},
   "outputs": [
    {
     "data": {
      "text/plain": [
       "[5, 4, 3, 2, 1]"
      ]
     },
     "execution_count": 12,
     "metadata": {},
     "output_type": "execute_result"
    }
   ],
   "source": [
    "#ATTEMPT 1\n",
    "head = [1,2,3,4,5]\n",
    "\n",
    "head[::-1]"
   ]
  },
  {
   "cell_type": "markdown",
   "metadata": {},
   "source": [
    "For this, I just sliced the list and returned it in reverse order.  Slice notation is [start:stop:step]\n",
    "\n",
    "- start: Because it's omitted, it defaults to None, which in the case of a negative step means start from the last element.\n",
    "- stop: Also omitted, defaulting to None, which in the case of a negative step means process until the first element.\n",
    "- step: -1 indicates that the step size is -1, meaning we want to move backwards through the sequence.\n",
    "\n",
    "Essentially, [::-1] starts at the end of the sequence and slices all the way to the beginning, stepping backwards by one index at a time. This effectively reverses the sequence."
   ]
  },
  {
   "cell_type": "markdown",
   "metadata": {},
   "source": [
    "Now that I know the above is wrong, let me use set up an actual linked list:"
   ]
  },
  {
   "cell_type": "code",
   "execution_count": 20,
   "metadata": {},
   "outputs": [
    {
     "name": "stdout",
     "output_type": "stream",
     "text": [
      "1\n",
      "2\n",
      "3\n",
      "4\n"
     ]
    },
    {
     "ename": "AttributeError",
     "evalue": "'list' object has no attribute 'next'",
     "output_type": "error",
     "traceback": [
      "\u001b[1;31m---------------------------------------------------------------------------\u001b[0m",
      "\u001b[1;31mAttributeError\u001b[0m                            Traceback (most recent call last)",
      "Cell \u001b[1;32mIn[20], line 48\u001b[0m\n\u001b[0;32m     44\u001b[0m third\u001b[38;5;241m.\u001b[39mnext \u001b[38;5;241m=\u001b[39m forth \n\u001b[0;32m     46\u001b[0m llist\u001b[38;5;241m.\u001b[39mprintList()\n\u001b[1;32m---> 48\u001b[0m \u001b[43mllist\u001b[49m\u001b[38;5;241;43m.\u001b[39;49m\u001b[43mreverseList\u001b[49m\u001b[43m(\u001b[49m\u001b[43m)\u001b[49m\n",
      "Cell \u001b[1;32mIn[20], line 27\u001b[0m, in \u001b[0;36mLinkedList.reverseList\u001b[1;34m(self)\u001b[0m\n\u001b[0;32m     25\u001b[0m prev, curr \u001b[38;5;241m=\u001b[39m \u001b[38;5;28;01mNone\u001b[39;00m, head\n\u001b[0;32m     26\u001b[0m \u001b[38;5;28;01mwhile\u001b[39;00m curr:\n\u001b[1;32m---> 27\u001b[0m     nxt \u001b[38;5;241m=\u001b[39m \u001b[43mcurr\u001b[49m\u001b[38;5;241;43m.\u001b[39;49m\u001b[43mnext\u001b[49m\n\u001b[0;32m     28\u001b[0m     curr\u001b[38;5;241m.\u001b[39mnext \u001b[38;5;241m=\u001b[39m prev\n\u001b[0;32m     29\u001b[0m     prev \u001b[38;5;241m=\u001b[39m curr\n",
      "\u001b[1;31mAttributeError\u001b[0m: 'list' object has no attribute 'next'"
     ]
    }
   ],
   "source": [
    "class Node:\n",
    "    def __init__(self, value, next_node=None):\n",
    "        self.value = value\n",
    "        self.next_node = next_node \n",
    "                       \n",
    "class LinkedList:\n",
    "    def __init__(self, head=None):\n",
    "        self.head = head\n",
    "\n",
    "#function for inserting nodes\n",
    "    def insert(self, value):\n",
    "        node = Node(value)\n",
    "        if self.head is None:\n",
    "            self.head = node\n",
    "            return\n",
    "            \n",
    "        current_node = self.head\n",
    "        while True:\n",
    "            if current_node.next_node is None:\n",
    "                current_node.next_node = node\n",
    "                break\n",
    "            current_node = current_node.next_node\n",
    "            \n",
    "#adding reverse function here\n",
    "    def reverse(self):\n",
    "        prev = None\n",
    "        current = self.head\n",
    "        while current is not None:\n",
    "            new_next = current.next_node\n",
    "            current.next_node = prev\n",
    "            prev = current\n",
    "            current = new_next\n",
    "        self.head = prev\n",
    "\n",
    "    def print_list(self):\n",
    "        current_node = self.head\n",
    "        while current_node is not None:\n",
    "            print(current_node.value, end=' -> ')\n",
    "            current_node = current_node.next_node\n",
    "        print('None')\n",
    "\n",
    "ll = LinkedList()\n",
    "ll.insert(3)\n",
    "ll.insert(44)\n",
    "ll.insert(52)\n",
    "ll.print_list()\n",
    "ll.reverse()\n",
    "ll.print_list()\n",
    "\n",
    "\n"
   ]
  }
 ],
 "metadata": {
  "kernelspec": {
   "display_name": "Python 3",
   "language": "python",
   "name": "python3"
  },
  "language_info": {
   "codemirror_mode": {
    "name": "ipython",
    "version": 3
   },
   "file_extension": ".py",
   "mimetype": "text/x-python",
   "name": "python",
   "nbconvert_exporter": "python",
   "pygments_lexer": "ipython3",
   "version": "3.11.0"
  }
 },
 "nbformat": 4,
 "nbformat_minor": 2
}
